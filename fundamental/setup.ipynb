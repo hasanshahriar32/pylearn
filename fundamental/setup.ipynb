{
 "cells": [
  {
   "cell_type": "markdown",
   "metadata": {},
   "source": [
    "# Creating a Virtual Environment and The Project Folder\n",
    "A Virtual Environment in Python is a self-contained directory that contains a Python installation for a particular version of the language.\n",
    "\n",
    "It’s a very useful way to make sure that we’re using the right Python version when we’re working on a particular project.\n",
    "\n",
    "Let’s create a project directory and a Python 3.7 Virtual Environment."
   ]
  },
  {
   "cell_type": "markdown",
   "metadata": {},
   "source": [
    "### For Windows\n",
    "Using the same PowerShell terminal from earlier, type the following commands in one by one:"
   ]
  },
  {
   "cell_type": "markdown",
   "metadata": {},
   "source": [
    "\n",
    "```powershell\n",
    "> cd $home\n",
    "> mkdir pyworkshop\n",
    "> cd pyworkshop\n",
    "> py -3 -m venv env\n",
    "> env\\scripts\\activate\n",
    "```\n"
   ]
  },
  {
   "cell_type": "markdown",
   "metadata": {},
   "source": [
    "Your prompt should now look like this, but with your own username.\n",
    "\n",
    "(env) PS C:\\Users\\nina\\pyworkshop>\n",
    "> env\\scripts\\activate is how you activate your virtual environment in Windows. You’ll want to do that each time you enter this Python project directory from a new shell."
   ]
  },
  {
   "cell_type": "markdown",
   "metadata": {},
   "source": [
    "### For Mac / Linux\n",
    "Open a terminal window. Type the following.\n",
    "\n",
    "(Do not type the $ character, that signifies a prompt.)"
   ]
  },
  {
   "cell_type": "markdown",
   "metadata": {},
   "source": [
    "```bash\t\n",
    "cd\n",
    "mkdir pyworkshop\n",
    "cd pyworkshop\n",
    "python3.7 -m venv env\n",
    "source env/bin/activate\n",
    "```"
   ]
  },
  {
   "cell_type": "markdown",
   "metadata": {},
   "source": [
    "> source env/bin/activate is how you activate your virtual environment on Mac or Linux. You’ll want to do that each time you enter this Python project directory from a new shell.\n",
    "\n",
    "Your prompt will look like this to indicate that the virtual environment is active.\n",
    "\n",
    "(env) $\n",
    "\n",
    "> You are expected to work from this project folder for the duration of the class, with an activated virtual environment."
   ]
  },
  {
   "cell_type": "markdown",
   "metadata": {},
   "source": [
    "## Checking VS Code\n",
    "Look for VS Code in your Applications, or type the following in your Mac/Linux or Powershell terminal.\n",
    "\n",
    "$ code --version\n",
    "\n",
    "You should see something like:\n",
    "\n",
    "```bash\t\n",
    "1.32.3\n",
    "a3db5be9b5c6ba46bb7555ec5d60178ecc2eaae4\n",
    "x64\n",
    "```\n",
    "\n",
    "> If you don’t see VS Code, please follow the instructions for installing VS Code again.\n",
    "\n",
    "> Note that after the course you can use the IDE of your choice to continue on your Python adventure."
   ]
  }
 ],
 "metadata": {
  "kernelspec": {
   "display_name": "env",
   "language": "python",
   "name": "python3"
  },
  "language_info": {
   "name": "python",
   "version": "3.11.4"
  }
 },
 "nbformat": 4,
 "nbformat_minor": 2
}
